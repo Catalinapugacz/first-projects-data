{
  "cells": [
    {
      "cell_type": "markdown",
      "metadata": {
        "id": "n_FOFydyO5aA"
      },
      "source": [
        "Iniciaremos trabajando con el archivo: **car.data**"
      ]
    },
    {
      "cell_type": "code",
      "execution_count": null,
      "metadata": {
        "id": "6oDjN85OO5aB",
        "outputId": "eea2fbb3-6c2c-49a3-ac13-ac3fabbda484"
      },
      "outputs": [
        {
          "data": {
            "text/html": [
              "<div>\n",
              "<style scoped>\n",
              "    .dataframe tbody tr th:only-of-type {\n",
              "        vertical-align: middle;\n",
              "    }\n",
              "\n",
              "    .dataframe tbody tr th {\n",
              "        vertical-align: top;\n",
              "    }\n",
              "\n",
              "    .dataframe thead th {\n",
              "        text-align: right;\n",
              "    }\n",
              "</style>\n",
              "<table border=\"1\" class=\"dataframe\">\n",
              "  <thead>\n",
              "    <tr style=\"text-align: right;\">\n",
              "      <th></th>\n",
              "      <th>0</th>\n",
              "      <th>1</th>\n",
              "      <th>2</th>\n",
              "      <th>3</th>\n",
              "      <th>4</th>\n",
              "      <th>5</th>\n",
              "      <th>6</th>\n",
              "    </tr>\n",
              "  </thead>\n",
              "  <tbody>\n",
              "    <tr>\n",
              "      <th>0</th>\n",
              "      <td>vhigh</td>\n",
              "      <td>vhigh</td>\n",
              "      <td>2</td>\n",
              "      <td>2</td>\n",
              "      <td>small</td>\n",
              "      <td>low</td>\n",
              "      <td>unacc</td>\n",
              "    </tr>\n",
              "    <tr>\n",
              "      <th>1</th>\n",
              "      <td>vhigh</td>\n",
              "      <td>vhigh</td>\n",
              "      <td>2</td>\n",
              "      <td>2</td>\n",
              "      <td>small</td>\n",
              "      <td>med</td>\n",
              "      <td>unacc</td>\n",
              "    </tr>\n",
              "    <tr>\n",
              "      <th>2</th>\n",
              "      <td>vhigh</td>\n",
              "      <td>vhigh</td>\n",
              "      <td>2</td>\n",
              "      <td>2</td>\n",
              "      <td>small</td>\n",
              "      <td>high</td>\n",
              "      <td>unacc</td>\n",
              "    </tr>\n",
              "    <tr>\n",
              "      <th>3</th>\n",
              "      <td>vhigh</td>\n",
              "      <td>vhigh</td>\n",
              "      <td>2</td>\n",
              "      <td>2</td>\n",
              "      <td>med</td>\n",
              "      <td>low</td>\n",
              "      <td>unacc</td>\n",
              "    </tr>\n",
              "    <tr>\n",
              "      <th>4</th>\n",
              "      <td>vhigh</td>\n",
              "      <td>vhigh</td>\n",
              "      <td>2</td>\n",
              "      <td>2</td>\n",
              "      <td>med</td>\n",
              "      <td>med</td>\n",
              "      <td>unacc</td>\n",
              "    </tr>\n",
              "  </tbody>\n",
              "</table>\n",
              "</div>"
            ],
            "text/plain": [
              "       0      1  2  3      4     5      6\n",
              "0  vhigh  vhigh  2  2  small   low  unacc\n",
              "1  vhigh  vhigh  2  2  small   med  unacc\n",
              "2  vhigh  vhigh  2  2  small  high  unacc\n",
              "3  vhigh  vhigh  2  2    med   low  unacc\n",
              "4  vhigh  vhigh  2  2    med   med  unacc"
            ]
          },
          "execution_count": 1,
          "metadata": {},
          "output_type": "execute_result"
        }
      ],
      "source": [
        "#Importamos las librerías\n",
        "import pandas as pd\n",
        "import numpy as np\n",
        "import matplotlib.pyplot as plt\n",
        "\n",
        "df_car = pd.read_csv(\"C:/Users/Layla/Desktop/Docencia/Coder House/Materiales complementarios/Mod 6 - Data Science/3. Mejora de Modelos de Machine Learning II/Datos/car.data\", sep = \",\", header=None)\n",
        "df_car.head()"
      ]
    },
    {
      "cell_type": "code",
      "execution_count": null,
      "metadata": {
        "id": "v9YZVgweO5aC",
        "outputId": "6fc46b98-434f-49ea-d98e-62896c12b070"
      },
      "outputs": [
        {
          "name": "stdout",
          "output_type": "stream",
          "text": [
            "(1728, 7)\n"
          ]
        }
      ],
      "source": [
        "#Dimension del dataset\n",
        "print(df_car.shape)"
      ]
    },
    {
      "cell_type": "code",
      "execution_count": null,
      "metadata": {
        "id": "p3aed66-O5aD",
        "outputId": "ed944ef1-9b35-4b71-cd6f-5ec8a8789432"
      },
      "outputs": [
        {
          "data": {
            "text/plain": [
              "0    object\n",
              "1    object\n",
              "2    object\n",
              "3    object\n",
              "4    object\n",
              "5    object\n",
              "6    object\n",
              "dtype: object"
            ]
          },
          "execution_count": 3,
          "metadata": {},
          "output_type": "execute_result"
        }
      ],
      "source": [
        "#Tipo de dato para cada columna\n",
        "df_car.dtypes"
      ]
    },
    {
      "cell_type": "code",
      "execution_count": null,
      "metadata": {
        "scrolled": true,
        "id": "mZjvWkNsO5aD",
        "outputId": "649f9181-531a-4eb5-920c-177de313edfc"
      },
      "outputs": [
        {
          "name": "stdout",
          "output_type": "stream",
          "text": [
            "<class 'pandas.core.frame.DataFrame'>\n",
            "RangeIndex: 1728 entries, 0 to 1727\n",
            "Data columns (total 7 columns):\n",
            " #   Column  Non-Null Count  Dtype \n",
            "---  ------  --------------  ----- \n",
            " 0   0       1728 non-null   object\n",
            " 1   1       1728 non-null   object\n",
            " 2   2       1728 non-null   object\n",
            " 3   3       1728 non-null   object\n",
            " 4   4       1728 non-null   object\n",
            " 5   5       1728 non-null   object\n",
            " 6   6       1728 non-null   object\n",
            "dtypes: object(7)\n",
            "memory usage: 94.6+ KB\n"
          ]
        }
      ],
      "source": [
        "#Información del dataset\n",
        "df_car.info()"
      ]
    },
    {
      "cell_type": "code",
      "execution_count": null,
      "metadata": {
        "id": "NS6jnu3wO5aD"
      },
      "outputs": [],
      "source": [
        "#Renombramos las columnas para lograr una mayor interpretacion\n",
        "df_car.rename(columns={0:'x0', 1:'x1',2:'x2',3:'x3',4:'x4',5:'x5',6:'y'}, inplace=True)"
      ]
    },
    {
      "cell_type": "code",
      "execution_count": null,
      "metadata": {
        "id": "1wzdWWxiO5aD",
        "outputId": "00a82bad-8e90-4be6-de1e-8874cf0ec7eb"
      },
      "outputs": [
        {
          "data": {
            "text/plain": [
              "Index(['x0', 'x1', 'x2', 'x3', 'x4', 'x5', 'y'], dtype='object')"
            ]
          },
          "execution_count": 6,
          "metadata": {},
          "output_type": "execute_result"
        }
      ],
      "source": [
        "#Verificamos el cambio realizado\n",
        "df_car.columns"
      ]
    },
    {
      "cell_type": "code",
      "execution_count": null,
      "metadata": {
        "id": "8CHIYcq-O5aE",
        "outputId": "c66f42c6-a850-4939-e63c-a8af5218f9a5"
      },
      "outputs": [
        {
          "data": {
            "text/html": [
              "<div>\n",
              "<style scoped>\n",
              "    .dataframe tbody tr th:only-of-type {\n",
              "        vertical-align: middle;\n",
              "    }\n",
              "\n",
              "    .dataframe tbody tr th {\n",
              "        vertical-align: top;\n",
              "    }\n",
              "\n",
              "    .dataframe thead th {\n",
              "        text-align: right;\n",
              "    }\n",
              "</style>\n",
              "<table border=\"1\" class=\"dataframe\">\n",
              "  <thead>\n",
              "    <tr style=\"text-align: right;\">\n",
              "      <th></th>\n",
              "      <th>x0</th>\n",
              "      <th>x1</th>\n",
              "      <th>x2</th>\n",
              "      <th>x3</th>\n",
              "      <th>x4</th>\n",
              "      <th>x5</th>\n",
              "      <th>y</th>\n",
              "    </tr>\n",
              "  </thead>\n",
              "  <tbody>\n",
              "    <tr>\n",
              "      <th>0</th>\n",
              "      <td>3</td>\n",
              "      <td>3</td>\n",
              "      <td>0</td>\n",
              "      <td>0</td>\n",
              "      <td>2</td>\n",
              "      <td>1</td>\n",
              "      <td>2</td>\n",
              "    </tr>\n",
              "    <tr>\n",
              "      <th>1</th>\n",
              "      <td>3</td>\n",
              "      <td>3</td>\n",
              "      <td>0</td>\n",
              "      <td>0</td>\n",
              "      <td>2</td>\n",
              "      <td>2</td>\n",
              "      <td>2</td>\n",
              "    </tr>\n",
              "    <tr>\n",
              "      <th>2</th>\n",
              "      <td>3</td>\n",
              "      <td>3</td>\n",
              "      <td>0</td>\n",
              "      <td>0</td>\n",
              "      <td>2</td>\n",
              "      <td>0</td>\n",
              "      <td>2</td>\n",
              "    </tr>\n",
              "    <tr>\n",
              "      <th>3</th>\n",
              "      <td>3</td>\n",
              "      <td>3</td>\n",
              "      <td>0</td>\n",
              "      <td>0</td>\n",
              "      <td>1</td>\n",
              "      <td>1</td>\n",
              "      <td>2</td>\n",
              "    </tr>\n",
              "    <tr>\n",
              "      <th>4</th>\n",
              "      <td>3</td>\n",
              "      <td>3</td>\n",
              "      <td>0</td>\n",
              "      <td>0</td>\n",
              "      <td>1</td>\n",
              "      <td>2</td>\n",
              "      <td>2</td>\n",
              "    </tr>\n",
              "  </tbody>\n",
              "</table>\n",
              "</div>"
            ],
            "text/plain": [
              "   x0  x1  x2  x3  x4  x5  y\n",
              "0   3   3   0   0   2   1  2\n",
              "1   3   3   0   0   2   2  2\n",
              "2   3   3   0   0   2   0  2\n",
              "3   3   3   0   0   1   1  2\n",
              "4   3   3   0   0   1   2  2"
            ]
          },
          "execution_count": 7,
          "metadata": {},
          "output_type": "execute_result"
        }
      ],
      "source": [
        "#Separacion en X e y\n",
        "y = df_car['y'].to_numpy()\n",
        "\n",
        "for n in df_car.columns:\n",
        "  if str(df_car[n].dtype) == 'object' or str(df_car[n].dtype) == 'category':\n",
        "    df_car[n] = df_car[n].astype('category').cat.codes\n",
        "X = df_car.drop(['y'], axis=1).to_numpy()\n",
        "df_car.head()"
      ]
    },
    {
      "cell_type": "markdown",
      "metadata": {
        "id": "I3Ox_wnLO5aE"
      },
      "source": [
        "Iniciaremos aplicando el método de **StratifiedKFold** para posteriormente comparar los resultados obtenidos con **KFold**. "
      ]
    },
    {
      "cell_type": "code",
      "execution_count": null,
      "metadata": {
        "id": "Xp5n5yWMO5aE"
      },
      "outputs": [],
      "source": [
        "#StratifiedKFold - Train y Test\n",
        "from sklearn.model_selection import StratifiedKFold\n",
        "skf_car = StratifiedKFold(n_splits=5, random_state=0, shuffle=True)\n",
        "train, test = list(skf_car.split(X, y))[0]\n",
        "X_train = X[train]\n",
        "X_test = X[test]\n",
        "y_train = y[train]\n",
        "y_test= y[test]"
      ]
    },
    {
      "cell_type": "code",
      "execution_count": null,
      "metadata": {
        "id": "Jz2vS7KOO5aE"
      },
      "outputs": [],
      "source": [
        "#Entrenar arbol y encontrar el mejor alpha con GridSearchCV y StratifiedKFold\n",
        "from sklearn.tree import DecisionTreeClassifier\n",
        "from sklearn.model_selection import GridSearchCV\n",
        "\n",
        "t_car = DecisionTreeClassifier()\n",
        "par_car = list(np.arange(0.0, 1., step=0.05))\n",
        "cv_car = StratifiedKFold(n_splits=5, random_state=0, shuffle=True)\n",
        "tunner_car = GridSearchCV(estimator=t_car, param_grid={'ccp_alpha':par_car}, cv=cv_car)\n",
        "_=tunner_car.fit(X_train, y_train)"
      ]
    },
    {
      "cell_type": "code",
      "execution_count": null,
      "metadata": {
        "id": "H6UWHTBxO5aE",
        "outputId": "b228120a-522a-44f5-8cdb-27d3267f8302"
      },
      "outputs": [
        {
          "name": "stdout",
          "output_type": "stream",
          "text": [
            "Train score StratifiedKFold: 1.0\n",
            "Test score StratifiedKFold: 0.9826589595375722\n"
          ]
        }
      ],
      "source": [
        "print('Train score StratifiedKFold: ' + str(tunner_car.score(X_train, y_train)))\n",
        "print('Test score StratifiedKFold: ' + str(tunner_car.score(X_test, y_test)))"
      ]
    },
    {
      "cell_type": "code",
      "execution_count": null,
      "metadata": {
        "id": "UgDL2UkDO5aE"
      },
      "outputs": [],
      "source": [
        "#KFold\n",
        "from sklearn.model_selection import KFold\n",
        "KFold_car = KFold(n_splits=5, random_state=0, shuffle=True)\n",
        "train_2, test_2 = list(KFold_car.split(X))[0]\n",
        "X_train_2 = X[train_2]\n",
        "X_test_2 = X[test_2]\n",
        "y_train_2 = y[train_2]\n",
        "y_test_2 = y[test_2]"
      ]
    },
    {
      "cell_type": "code",
      "execution_count": null,
      "metadata": {
        "id": "SeUHvHdjO5aF"
      },
      "outputs": [],
      "source": [
        "#Entrenar arbol y encontrar el mejor alpha con GridSearchCV y KFold\n",
        "t_car2 = DecisionTreeClassifier()\n",
        "par_car2 = list(np.arange(0.0, 1., step=0.05))\n",
        "cv_car2 = KFold(n_splits=5, random_state=0, shuffle=True)\n",
        "tunner_car2 = GridSearchCV(estimator=t_car2, param_grid={'ccp_alpha':par_car2}, cv=cv_car2)\n",
        "_=tunner_car2.fit(X_train_2, y_train_2)"
      ]
    },
    {
      "cell_type": "code",
      "execution_count": null,
      "metadata": {
        "id": "hUwS2w25O5aF",
        "outputId": "2c295768-f406-4795-db86-a3b31806acd5"
      },
      "outputs": [
        {
          "name": "stdout",
          "output_type": "stream",
          "text": [
            "Train score KFold: 1.0\n",
            "Test score KFold: 0.9826589595375722\n"
          ]
        }
      ],
      "source": [
        "#Metricas\n",
        "print('Train score KFold: ' + str(tunner_car2.score(X_train_2, y_train_2)))\n",
        "print('Test score KFold: ' + str(tunner_car2.score(X_test_2, y_test_2)))"
      ]
    },
    {
      "cell_type": "markdown",
      "metadata": {
        "id": "_1d1Hv6DO5aF"
      },
      "source": [
        "**Conclusiones e Interpretaciones del dataset: car.data**\n",
        "\n",
        "Si comenzamos nuestro análisis sobre el método de StratifiedKFold, se observan los siguientes valores para las métricas obtenidas:\n",
        "\n",
        "* Train score StratifiedKFold: 1.0\n",
        "* Test score StratifiedKFold: 0.9826589595375722\n",
        "\n",
        "Claramente, podemos identificar que nuestro modelo se está \"sobreajustando\", razón inicial que podría deberse al pequeño tamaño del dataset 1728 registros respectivamente.\n",
        "\n",
        "Ahora bien, analizando el método de KFold, los resultados de Train y Test se detallan a continuación: \n",
        "\n",
        "* Train score KFold: 1.0\n",
        "* Test score KFold: 0.9682080924855492\n",
        "\n",
        "Para este caso en particular para las métricas obtenidas, no se observan grandes mejoras al implementar este tipo de método de CrossValidation, dado que el algoritmo aun persiste sobreajustado y el Test Score se ve reducido muy levemente. "
      ]
    },
    {
      "cell_type": "markdown",
      "metadata": {
        "id": "JBUwUEHuO5aF"
      },
      "source": [
        "Continuaremos trabajando con el archivo: **aug_train**"
      ]
    },
    {
      "cell_type": "markdown",
      "metadata": {
        "id": "A18dpCTDO5aF"
      },
      "source": [
        "**Consignas**:\n",
        "    \n",
        "Se deberá replicar el ejemplo anterior realizado, sobre el dataset propuesto para el método de StratifiedKFold y KFold.\n",
        "El algoritmo a entrenar será un DecisionTreeClassifier. Finalmente se solicita elaborar una pequeña conclusión e interpretación de las aplicaciones realizadas.\n",
        "\n",
        "Aclaración: La variable de interes es \"target\"."
      ]
    },
    {
      "cell_type": "code",
      "execution_count": null,
      "metadata": {
        "id": "xYXkmUVmO5aF",
        "outputId": "d6e44253-4ad6-45d4-a803-a292fb72a81a"
      },
      "outputs": [
        {
          "data": {
            "text/html": [
              "<div>\n",
              "<style scoped>\n",
              "    .dataframe tbody tr th:only-of-type {\n",
              "        vertical-align: middle;\n",
              "    }\n",
              "\n",
              "    .dataframe tbody tr th {\n",
              "        vertical-align: top;\n",
              "    }\n",
              "\n",
              "    .dataframe thead th {\n",
              "        text-align: right;\n",
              "    }\n",
              "</style>\n",
              "<table border=\"1\" class=\"dataframe\">\n",
              "  <thead>\n",
              "    <tr style=\"text-align: right;\">\n",
              "      <th></th>\n",
              "      <th>enrollee_id</th>\n",
              "      <th>city</th>\n",
              "      <th>city_development_index</th>\n",
              "      <th>gender</th>\n",
              "      <th>relevent_experience</th>\n",
              "      <th>enrolled_university</th>\n",
              "      <th>education_level</th>\n",
              "      <th>major_discipline</th>\n",
              "      <th>experience</th>\n",
              "      <th>company_size</th>\n",
              "      <th>company_type</th>\n",
              "      <th>last_new_job</th>\n",
              "      <th>training_hours</th>\n",
              "      <th>target</th>\n",
              "    </tr>\n",
              "  </thead>\n",
              "  <tbody>\n",
              "    <tr>\n",
              "      <th>0</th>\n",
              "      <td>8949</td>\n",
              "      <td>city_103</td>\n",
              "      <td>0.920</td>\n",
              "      <td>Male</td>\n",
              "      <td>Has relevent experience</td>\n",
              "      <td>no_enrollment</td>\n",
              "      <td>Graduate</td>\n",
              "      <td>STEM</td>\n",
              "      <td>&gt;20</td>\n",
              "      <td>NaN</td>\n",
              "      <td>NaN</td>\n",
              "      <td>1</td>\n",
              "      <td>36</td>\n",
              "      <td>1.0</td>\n",
              "    </tr>\n",
              "    <tr>\n",
              "      <th>1</th>\n",
              "      <td>29725</td>\n",
              "      <td>city_40</td>\n",
              "      <td>0.776</td>\n",
              "      <td>Male</td>\n",
              "      <td>No relevent experience</td>\n",
              "      <td>no_enrollment</td>\n",
              "      <td>Graduate</td>\n",
              "      <td>STEM</td>\n",
              "      <td>15</td>\n",
              "      <td>50-99</td>\n",
              "      <td>Pvt Ltd</td>\n",
              "      <td>&gt;4</td>\n",
              "      <td>47</td>\n",
              "      <td>0.0</td>\n",
              "    </tr>\n",
              "    <tr>\n",
              "      <th>2</th>\n",
              "      <td>11561</td>\n",
              "      <td>city_21</td>\n",
              "      <td>0.624</td>\n",
              "      <td>NaN</td>\n",
              "      <td>No relevent experience</td>\n",
              "      <td>Full time course</td>\n",
              "      <td>Graduate</td>\n",
              "      <td>STEM</td>\n",
              "      <td>5</td>\n",
              "      <td>NaN</td>\n",
              "      <td>NaN</td>\n",
              "      <td>never</td>\n",
              "      <td>83</td>\n",
              "      <td>0.0</td>\n",
              "    </tr>\n",
              "    <tr>\n",
              "      <th>3</th>\n",
              "      <td>33241</td>\n",
              "      <td>city_115</td>\n",
              "      <td>0.789</td>\n",
              "      <td>NaN</td>\n",
              "      <td>No relevent experience</td>\n",
              "      <td>NaN</td>\n",
              "      <td>Graduate</td>\n",
              "      <td>Business Degree</td>\n",
              "      <td>&lt;1</td>\n",
              "      <td>NaN</td>\n",
              "      <td>Pvt Ltd</td>\n",
              "      <td>never</td>\n",
              "      <td>52</td>\n",
              "      <td>1.0</td>\n",
              "    </tr>\n",
              "    <tr>\n",
              "      <th>4</th>\n",
              "      <td>666</td>\n",
              "      <td>city_162</td>\n",
              "      <td>0.767</td>\n",
              "      <td>Male</td>\n",
              "      <td>Has relevent experience</td>\n",
              "      <td>no_enrollment</td>\n",
              "      <td>Masters</td>\n",
              "      <td>STEM</td>\n",
              "      <td>&gt;20</td>\n",
              "      <td>50-99</td>\n",
              "      <td>Funded Startup</td>\n",
              "      <td>4</td>\n",
              "      <td>8</td>\n",
              "      <td>0.0</td>\n",
              "    </tr>\n",
              "    <tr>\n",
              "      <th>...</th>\n",
              "      <td>...</td>\n",
              "      <td>...</td>\n",
              "      <td>...</td>\n",
              "      <td>...</td>\n",
              "      <td>...</td>\n",
              "      <td>...</td>\n",
              "      <td>...</td>\n",
              "      <td>...</td>\n",
              "      <td>...</td>\n",
              "      <td>...</td>\n",
              "      <td>...</td>\n",
              "      <td>...</td>\n",
              "      <td>...</td>\n",
              "      <td>...</td>\n",
              "    </tr>\n",
              "    <tr>\n",
              "      <th>19153</th>\n",
              "      <td>7386</td>\n",
              "      <td>city_173</td>\n",
              "      <td>0.878</td>\n",
              "      <td>Male</td>\n",
              "      <td>No relevent experience</td>\n",
              "      <td>no_enrollment</td>\n",
              "      <td>Graduate</td>\n",
              "      <td>Humanities</td>\n",
              "      <td>14</td>\n",
              "      <td>NaN</td>\n",
              "      <td>NaN</td>\n",
              "      <td>1</td>\n",
              "      <td>42</td>\n",
              "      <td>1.0</td>\n",
              "    </tr>\n",
              "    <tr>\n",
              "      <th>19154</th>\n",
              "      <td>31398</td>\n",
              "      <td>city_103</td>\n",
              "      <td>0.920</td>\n",
              "      <td>Male</td>\n",
              "      <td>Has relevent experience</td>\n",
              "      <td>no_enrollment</td>\n",
              "      <td>Graduate</td>\n",
              "      <td>STEM</td>\n",
              "      <td>14</td>\n",
              "      <td>NaN</td>\n",
              "      <td>NaN</td>\n",
              "      <td>4</td>\n",
              "      <td>52</td>\n",
              "      <td>1.0</td>\n",
              "    </tr>\n",
              "    <tr>\n",
              "      <th>19155</th>\n",
              "      <td>24576</td>\n",
              "      <td>city_103</td>\n",
              "      <td>0.920</td>\n",
              "      <td>Male</td>\n",
              "      <td>Has relevent experience</td>\n",
              "      <td>no_enrollment</td>\n",
              "      <td>Graduate</td>\n",
              "      <td>STEM</td>\n",
              "      <td>&gt;20</td>\n",
              "      <td>50-99</td>\n",
              "      <td>Pvt Ltd</td>\n",
              "      <td>4</td>\n",
              "      <td>44</td>\n",
              "      <td>0.0</td>\n",
              "    </tr>\n",
              "    <tr>\n",
              "      <th>19156</th>\n",
              "      <td>5756</td>\n",
              "      <td>city_65</td>\n",
              "      <td>0.802</td>\n",
              "      <td>Male</td>\n",
              "      <td>Has relevent experience</td>\n",
              "      <td>no_enrollment</td>\n",
              "      <td>High School</td>\n",
              "      <td>NaN</td>\n",
              "      <td>&lt;1</td>\n",
              "      <td>500-999</td>\n",
              "      <td>Pvt Ltd</td>\n",
              "      <td>2</td>\n",
              "      <td>97</td>\n",
              "      <td>0.0</td>\n",
              "    </tr>\n",
              "    <tr>\n",
              "      <th>19157</th>\n",
              "      <td>23834</td>\n",
              "      <td>city_67</td>\n",
              "      <td>0.855</td>\n",
              "      <td>NaN</td>\n",
              "      <td>No relevent experience</td>\n",
              "      <td>no_enrollment</td>\n",
              "      <td>Primary School</td>\n",
              "      <td>NaN</td>\n",
              "      <td>2</td>\n",
              "      <td>NaN</td>\n",
              "      <td>NaN</td>\n",
              "      <td>1</td>\n",
              "      <td>127</td>\n",
              "      <td>0.0</td>\n",
              "    </tr>\n",
              "  </tbody>\n",
              "</table>\n",
              "<p>19158 rows × 14 columns</p>\n",
              "</div>"
            ],
            "text/plain": [
              "       enrollee_id      city  city_development_index gender  \\\n",
              "0             8949  city_103                   0.920   Male   \n",
              "1            29725   city_40                   0.776   Male   \n",
              "2            11561   city_21                   0.624    NaN   \n",
              "3            33241  city_115                   0.789    NaN   \n",
              "4              666  city_162                   0.767   Male   \n",
              "...            ...       ...                     ...    ...   \n",
              "19153         7386  city_173                   0.878   Male   \n",
              "19154        31398  city_103                   0.920   Male   \n",
              "19155        24576  city_103                   0.920   Male   \n",
              "19156         5756   city_65                   0.802   Male   \n",
              "19157        23834   city_67                   0.855    NaN   \n",
              "\n",
              "           relevent_experience enrolled_university education_level  \\\n",
              "0      Has relevent experience       no_enrollment        Graduate   \n",
              "1       No relevent experience       no_enrollment        Graduate   \n",
              "2       No relevent experience    Full time course        Graduate   \n",
              "3       No relevent experience                 NaN        Graduate   \n",
              "4      Has relevent experience       no_enrollment         Masters   \n",
              "...                        ...                 ...             ...   \n",
              "19153   No relevent experience       no_enrollment        Graduate   \n",
              "19154  Has relevent experience       no_enrollment        Graduate   \n",
              "19155  Has relevent experience       no_enrollment        Graduate   \n",
              "19156  Has relevent experience       no_enrollment     High School   \n",
              "19157   No relevent experience       no_enrollment  Primary School   \n",
              "\n",
              "      major_discipline experience company_size    company_type last_new_job  \\\n",
              "0                 STEM        >20          NaN             NaN            1   \n",
              "1                 STEM         15        50-99         Pvt Ltd           >4   \n",
              "2                 STEM          5          NaN             NaN        never   \n",
              "3      Business Degree         <1          NaN         Pvt Ltd        never   \n",
              "4                 STEM        >20        50-99  Funded Startup            4   \n",
              "...                ...        ...          ...             ...          ...   \n",
              "19153       Humanities         14          NaN             NaN            1   \n",
              "19154             STEM         14          NaN             NaN            4   \n",
              "19155             STEM        >20        50-99         Pvt Ltd            4   \n",
              "19156              NaN         <1      500-999         Pvt Ltd            2   \n",
              "19157              NaN          2          NaN             NaN            1   \n",
              "\n",
              "       training_hours  target  \n",
              "0                  36     1.0  \n",
              "1                  47     0.0  \n",
              "2                  83     0.0  \n",
              "3                  52     1.0  \n",
              "4                   8     0.0  \n",
              "...               ...     ...  \n",
              "19153              42     1.0  \n",
              "19154              52     1.0  \n",
              "19155              44     0.0  \n",
              "19156              97     0.0  \n",
              "19157             127     0.0  \n",
              "\n",
              "[19158 rows x 14 columns]"
            ]
          },
          "execution_count": 14,
          "metadata": {},
          "output_type": "execute_result"
        }
      ],
      "source": [
        "#Importamos el segundo data set\n",
        "df_aug = pd.read_csv(\"C:/Users/Layla/Desktop/Docencia/Coder House/Materiales complementarios/Mod 6 - Data Science/3. Mejora de Modelos de Machine Learning II/Datos/aug_train.csv\", sep = \",\")\n",
        "df_aug"
      ]
    },
    {
      "cell_type": "code",
      "execution_count": null,
      "metadata": {
        "id": "Av7rMtgQO5aG",
        "outputId": "86d60c07-3b62-4abb-bdc8-9c309885b111"
      },
      "outputs": [
        {
          "name": "stdout",
          "output_type": "stream",
          "text": [
            "(19158, 14)\n"
          ]
        }
      ],
      "source": [
        "#Dimension del dataset\n",
        "print(df_aug.shape)"
      ]
    },
    {
      "cell_type": "code",
      "execution_count": null,
      "metadata": {
        "id": "1g2LQsgdO5aG",
        "outputId": "0fd83337-9af6-43f3-8951-9b5bee46e5a6"
      },
      "outputs": [
        {
          "data": {
            "text/plain": [
              "enrollee_id                 int64\n",
              "city                       object\n",
              "city_development_index    float64\n",
              "gender                     object\n",
              "relevent_experience        object\n",
              "enrolled_university        object\n",
              "education_level            object\n",
              "major_discipline           object\n",
              "experience                 object\n",
              "company_size               object\n",
              "company_type               object\n",
              "last_new_job               object\n",
              "training_hours              int64\n",
              "target                    float64\n",
              "dtype: object"
            ]
          },
          "execution_count": 16,
          "metadata": {},
          "output_type": "execute_result"
        }
      ],
      "source": [
        "#Tipo de dato para cada columna\n",
        "df_aug.dtypes"
      ]
    },
    {
      "cell_type": "code",
      "execution_count": null,
      "metadata": {
        "id": "wLBDm7NsO5aG",
        "outputId": "34c0f238-0c0e-4620-9e92-5c11de03213f"
      },
      "outputs": [
        {
          "name": "stdout",
          "output_type": "stream",
          "text": [
            "<class 'pandas.core.frame.DataFrame'>\n",
            "RangeIndex: 19158 entries, 0 to 19157\n",
            "Data columns (total 14 columns):\n",
            " #   Column                  Non-Null Count  Dtype  \n",
            "---  ------                  --------------  -----  \n",
            " 0   enrollee_id             19158 non-null  int64  \n",
            " 1   city                    19158 non-null  object \n",
            " 2   city_development_index  19158 non-null  float64\n",
            " 3   gender                  14650 non-null  object \n",
            " 4   relevent_experience     19158 non-null  object \n",
            " 5   enrolled_university     18772 non-null  object \n",
            " 6   education_level         18698 non-null  object \n",
            " 7   major_discipline        16345 non-null  object \n",
            " 8   experience              19093 non-null  object \n",
            " 9   company_size            13220 non-null  object \n",
            " 10  company_type            13018 non-null  object \n",
            " 11  last_new_job            18735 non-null  object \n",
            " 12  training_hours          19158 non-null  int64  \n",
            " 13  target                  19158 non-null  float64\n",
            "dtypes: float64(2), int64(2), object(10)\n",
            "memory usage: 2.0+ MB\n"
          ]
        }
      ],
      "source": [
        "#Información del dataset\n",
        "df_aug.info()"
      ]
    },
    {
      "cell_type": "code",
      "execution_count": null,
      "metadata": {
        "id": "zjMtWQ9oO5aG",
        "outputId": "e6825383-2ed1-4ce6-f6bf-e8beefdd57bd"
      },
      "outputs": [
        {
          "data": {
            "text/html": [
              "<div>\n",
              "<style scoped>\n",
              "    .dataframe tbody tr th:only-of-type {\n",
              "        vertical-align: middle;\n",
              "    }\n",
              "\n",
              "    .dataframe tbody tr th {\n",
              "        vertical-align: top;\n",
              "    }\n",
              "\n",
              "    .dataframe thead th {\n",
              "        text-align: right;\n",
              "    }\n",
              "</style>\n",
              "<table border=\"1\" class=\"dataframe\">\n",
              "  <thead>\n",
              "    <tr style=\"text-align: right;\">\n",
              "      <th></th>\n",
              "      <th>enrollee_id</th>\n",
              "      <th>city</th>\n",
              "      <th>city_development_index</th>\n",
              "      <th>gender</th>\n",
              "      <th>relevent_experience</th>\n",
              "      <th>enrolled_university</th>\n",
              "      <th>education_level</th>\n",
              "      <th>major_discipline</th>\n",
              "      <th>experience</th>\n",
              "      <th>company_size</th>\n",
              "      <th>company_type</th>\n",
              "      <th>last_new_job</th>\n",
              "      <th>training_hours</th>\n",
              "      <th>target</th>\n",
              "    </tr>\n",
              "  </thead>\n",
              "  <tbody>\n",
              "    <tr>\n",
              "      <th>0</th>\n",
              "      <td>8949</td>\n",
              "      <td>5</td>\n",
              "      <td>0.920</td>\n",
              "      <td>1</td>\n",
              "      <td>0</td>\n",
              "      <td>2</td>\n",
              "      <td>0</td>\n",
              "      <td>5</td>\n",
              "      <td>21</td>\n",
              "      <td>-1</td>\n",
              "      <td>-1</td>\n",
              "      <td>0</td>\n",
              "      <td>36</td>\n",
              "      <td>1.0</td>\n",
              "    </tr>\n",
              "    <tr>\n",
              "      <th>1</th>\n",
              "      <td>29725</td>\n",
              "      <td>77</td>\n",
              "      <td>0.776</td>\n",
              "      <td>1</td>\n",
              "      <td>1</td>\n",
              "      <td>2</td>\n",
              "      <td>0</td>\n",
              "      <td>5</td>\n",
              "      <td>6</td>\n",
              "      <td>4</td>\n",
              "      <td>5</td>\n",
              "      <td>4</td>\n",
              "      <td>47</td>\n",
              "      <td>0.0</td>\n",
              "    </tr>\n",
              "    <tr>\n",
              "      <th>2</th>\n",
              "      <td>11561</td>\n",
              "      <td>64</td>\n",
              "      <td>0.624</td>\n",
              "      <td>-1</td>\n",
              "      <td>1</td>\n",
              "      <td>0</td>\n",
              "      <td>0</td>\n",
              "      <td>5</td>\n",
              "      <td>15</td>\n",
              "      <td>-1</td>\n",
              "      <td>-1</td>\n",
              "      <td>5</td>\n",
              "      <td>83</td>\n",
              "      <td>0.0</td>\n",
              "    </tr>\n",
              "    <tr>\n",
              "      <th>3</th>\n",
              "      <td>33241</td>\n",
              "      <td>14</td>\n",
              "      <td>0.789</td>\n",
              "      <td>-1</td>\n",
              "      <td>1</td>\n",
              "      <td>-1</td>\n",
              "      <td>0</td>\n",
              "      <td>1</td>\n",
              "      <td>20</td>\n",
              "      <td>-1</td>\n",
              "      <td>5</td>\n",
              "      <td>5</td>\n",
              "      <td>52</td>\n",
              "      <td>1.0</td>\n",
              "    </tr>\n",
              "    <tr>\n",
              "      <th>4</th>\n",
              "      <td>666</td>\n",
              "      <td>50</td>\n",
              "      <td>0.767</td>\n",
              "      <td>1</td>\n",
              "      <td>0</td>\n",
              "      <td>2</td>\n",
              "      <td>2</td>\n",
              "      <td>5</td>\n",
              "      <td>21</td>\n",
              "      <td>4</td>\n",
              "      <td>1</td>\n",
              "      <td>3</td>\n",
              "      <td>8</td>\n",
              "      <td>0.0</td>\n",
              "    </tr>\n",
              "  </tbody>\n",
              "</table>\n",
              "</div>"
            ],
            "text/plain": [
              "   enrollee_id  city  city_development_index  gender  relevent_experience  \\\n",
              "0         8949     5                   0.920       1                    0   \n",
              "1        29725    77                   0.776       1                    1   \n",
              "2        11561    64                   0.624      -1                    1   \n",
              "3        33241    14                   0.789      -1                    1   \n",
              "4          666    50                   0.767       1                    0   \n",
              "\n",
              "   enrolled_university  education_level  major_discipline  experience  \\\n",
              "0                    2                0                 5          21   \n",
              "1                    2                0                 5           6   \n",
              "2                    0                0                 5          15   \n",
              "3                   -1                0                 1          20   \n",
              "4                    2                2                 5          21   \n",
              "\n",
              "   company_size  company_type  last_new_job  training_hours  target  \n",
              "0            -1            -1             0              36     1.0  \n",
              "1             4             5             4              47     0.0  \n",
              "2            -1            -1             5              83     0.0  \n",
              "3            -1             5             5              52     1.0  \n",
              "4             4             1             3               8     0.0  "
            ]
          },
          "execution_count": 18,
          "metadata": {},
          "output_type": "execute_result"
        }
      ],
      "source": [
        "#Separacin en X e y\n",
        "y = df_aug['target'].to_numpy()\n",
        "\n",
        "for n in df_aug.columns:\n",
        "  if str(df_aug[n].dtype) == 'object' or str(df_aug[n].dtype) == 'category':\n",
        "    df_aug[n] = df_aug[n].astype('category').cat.codes\n",
        "X = df_aug.drop(['target'], axis=1).to_numpy()\n",
        "df_aug.head()"
      ]
    },
    {
      "cell_type": "code",
      "execution_count": null,
      "metadata": {
        "id": "_C_qsmjAO5aG"
      },
      "outputs": [],
      "source": [
        "#Dividir Train y Test para CV - StratifiedKFold\n",
        "from sklearn.model_selection import StratifiedKFold\n",
        "skf_aug = StratifiedKFold(n_splits=5, random_state=0, shuffle=True)\n",
        "train, test = list(skf_aug.split(X, y))[0]\n",
        "X_train = X[train]\n",
        "X_test = X[test]\n",
        "y_train = y[train]\n",
        "y_test= y[test]"
      ]
    },
    {
      "cell_type": "code",
      "execution_count": null,
      "metadata": {
        "id": "Me_SwveIO5aG"
      },
      "outputs": [],
      "source": [
        "#Entrenar arbol y encontrar el mejor alpha con GridSearchCV y StratifiedKFold\n",
        "from sklearn.tree import DecisionTreeClassifier\n",
        "from sklearn.model_selection import GridSearchCV\n",
        "t_aug = DecisionTreeClassifier()\n",
        "par_aug = list(np.arange(0.0, 1., step=0.05))\n",
        "cv_aug = StratifiedKFold(n_splits=5, random_state=0, shuffle=True)\n",
        "tunner_aug = GridSearchCV(estimator=t_aug, param_grid={'ccp_alpha':par_aug}, cv=cv_aug)\n",
        "_=tunner_aug.fit(X_train, y_train)"
      ]
    },
    {
      "cell_type": "code",
      "execution_count": null,
      "metadata": {
        "id": "b0cViVcJO5aG",
        "outputId": "b5480c87-f6d2-4b6f-bca1-61019f6b027c"
      },
      "outputs": [
        {
          "name": "stdout",
          "output_type": "stream",
          "text": [
            "Train score StratifiedKFold: 0.7830484144590891\n",
            "Test score StratifiedKFold: 0.7794885177453027\n"
          ]
        }
      ],
      "source": [
        "print('Train score StratifiedKFold: ' + str(tunner_aug.score(X_train, y_train)))\n",
        "print('Test score StratifiedKFold: ' + str(tunner_aug.score(X_test, y_test)))"
      ]
    },
    {
      "cell_type": "code",
      "execution_count": null,
      "metadata": {
        "id": "V1RnA_PIO5aH"
      },
      "outputs": [],
      "source": [
        "#KFold\n",
        "from sklearn.model_selection import KFold\n",
        "KFold_aug= KFold(n_splits=5, random_state=0, shuffle=True)\n",
        "train_2, test_2 = list(KFold_aug.split(X))[0]\n",
        "X_train_2 = X[train_2]\n",
        "X_test_2 = X[test_2]\n",
        "y_train_2 = y[train_2]\n",
        "y_test_2 = y[test_2]"
      ]
    },
    {
      "cell_type": "code",
      "execution_count": null,
      "metadata": {
        "id": "ruUiFHGZO5aH"
      },
      "outputs": [],
      "source": [
        "#Entrenar arbol y encontrar el mejor alpha con GridSearchCV y KFold\n",
        "t_aug2 = DecisionTreeClassifier()\n",
        "par_aug2 = list(np.arange(0.0, 1., step=0.05))\n",
        "cv_aug2 = KFold(n_splits=5, random_state=0, shuffle=True)\n",
        "tunner_aug2 = GridSearchCV(estimator=t_aug2, param_grid={'ccp_alpha':par_aug2}, cv=cv_aug2)\n",
        "_=tunner_aug2.fit(X_train_2, y_train_2)"
      ]
    },
    {
      "cell_type": "code",
      "execution_count": null,
      "metadata": {
        "id": "1IBwKd__O5aH",
        "outputId": "cfc3bd3c-5ece-42cf-bb63-ece9917d4c17"
      },
      "outputs": [
        {
          "name": "stdout",
          "output_type": "stream",
          "text": [
            "Train score KFold: 0.7818086911131411\n",
            "Test score KFold: 0.784446764091858\n"
          ]
        }
      ],
      "source": [
        "#Metricas\n",
        "print('Train score KFold: ' + str(tunner_aug2.score(X_train_2, y_train_2)))\n",
        "print('Test score KFold: ' + str(tunner_aug2.score(X_test_2, y_test_2)))"
      ]
    },
    {
      "cell_type": "markdown",
      "metadata": {
        "id": "ShNeZrbcO5aH"
      },
      "source": [
        "**Conclusionees e Interpretaciones del dataset: aug_train**\n",
        "\n",
        "Para este análisis en particular, si comenzamos observando los valores obtenidos para Train y Test con el método de StratifiedKFold ambos son muy similares entre sí, aspecto que es destacable para nuestro modelo. A continuación, se mencionan las métricas obtenidas: \n",
        "\n",
        "* Train score StratifiedKFold: 0.7830484144590891\n",
        "* Test score StratifiedKFold: 0.7794885177453027\n",
        "\n",
        "Ahora bien, en la aplicación del método de KFold, los resultados alcanzados nuevamente son similares en Train y Test, particularmente los valores rondan cerca de 0.78. \n",
        "\n",
        "Finalmente, se detallan las métricas obtenidas para KFold en Train y Test.\n",
        "\n",
        "* Train score KFold: 0.7818086911131411\n",
        "* Test score KFold: 0.784446764091858"
      ]
    }
  ],
  "metadata": {
    "kernelspec": {
      "display_name": "Python 3",
      "language": "python",
      "name": "python3"
    },
    "language_info": {
      "codemirror_mode": {
        "name": "ipython",
        "version": 3
      },
      "file_extension": ".py",
      "mimetype": "text/x-python",
      "name": "python",
      "nbconvert_exporter": "python",
      "pygments_lexer": "ipython3",
      "version": "3.8.5"
    },
    "varInspector": {
      "cols": {
        "lenName": 16,
        "lenType": 16,
        "lenVar": 40
      },
      "kernels_config": {
        "python": {
          "delete_cmd_postfix": "",
          "delete_cmd_prefix": "del ",
          "library": "var_list.py",
          "varRefreshCmd": "print(var_dic_list())"
        },
        "r": {
          "delete_cmd_postfix": ") ",
          "delete_cmd_prefix": "rm(",
          "library": "var_list.r",
          "varRefreshCmd": "cat(var_dic_list()) "
        }
      },
      "types_to_exclude": [
        "module",
        "function",
        "builtin_function_or_method",
        "instance",
        "_Feature"
      ],
      "window_display": false
    },
    "colab": {
      "provenance": []
    }
  },
  "nbformat": 4,
  "nbformat_minor": 0
}