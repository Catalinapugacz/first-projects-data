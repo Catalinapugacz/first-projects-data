{
  "nbformat": 4,
  "nbformat_minor": 0,
  "metadata": {
    "colab": {
      "provenance": []
    },
    "kernelspec": {
      "name": "python3",
      "display_name": "Python 3"
    },
    "language_info": {
      "name": "python"
    }
  },
  "cells": [
    {
      "cell_type": "markdown",
      "metadata": {
        "id": "OG1Sk7Vf6ZlV"
      },
      "source": [
        "Escribir una función para calcular el factorial de un número cualquiera.\n",
        "\n",
        "Se elige el factorial de 8\n"
      ]
    },
    {
      "cell_type": "code",
      "metadata": {
        "colab": {
          "base_uri": "https://localhost:8080/"
        },
        "id": "VzUBluwh7hVU",
        "outputId": "809f1db4-84db-4334-de44-6612a31b7933"
      },
      "source": [
        "num = int(input(\"Ingrese el número al cual se le va a aplicar el factorial: \"))\n",
        "\n",
        "i=1\n",
        "factorial=1\n",
        "while i<=num:\n",
        "  factorial=factorial*i\n",
        "  i=i+1\n",
        "print(factorial)"
      ],
      "execution_count": null,
      "outputs": [
        {
          "output_type": "stream",
          "name": "stdout",
          "text": [
            "Ingrese el número al cual se le va a aplicar el factorial: 8\n",
            "40320\n"
          ]
        }
      ]
    },
    {
      "cell_type": "markdown",
      "metadata": {
        "id": "GKXwTz-K7tSH"
      },
      "source": [
        "Escribir una función para calcular la suma de una serie comenzando por un número cualquiera y terminando en otro número que debe ser mayor al primero.\n",
        "\n",
        "Sumatoria empezando en 1, hasta que i sea igual a 10"
      ]
    },
    {
      "cell_type": "code",
      "metadata": {
        "colab": {
          "base_uri": "https://localhost:8080/"
        },
        "id": "9Kmc_FaU736G",
        "outputId": "5b6f1518-e4f0-46b0-ebce-f85f438ce9e5"
      },
      "source": [
        "comienzo = int(input(\"Ingrese el número por el cual comienza la serie: \"))\n",
        "fin = int(input(\"Ingrese el número por el cual termina la serie: \"))\n",
        "\n",
        "num = 0\n",
        "for i in range (comienzo,fin+1):\n",
        "  num +=i\n",
        "print(num)"
      ],
      "execution_count": null,
      "outputs": [
        {
          "output_type": "stream",
          "name": "stdout",
          "text": [
            "Ingrese el número por el cual comienza la serie: 1\n",
            "Ingrese el número por el cual termina la serie: 10\n",
            "55\n"
          ]
        }
      ]
    },
    {
      "cell_type": "code",
      "metadata": {
        "id": "qUF83_3b_-yy"
      },
      "source": [],
      "execution_count": null,
      "outputs": []
    }
  ]
}